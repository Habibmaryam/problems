{
 "cells": [
  {
   "cell_type": "markdown",
   "id": "cfcf20b5",
   "metadata": {},
   "source": [
    "Question 1"
   ]
  }
 ],
 "metadata": {
  "language_info": {
   "name": "python"
  }
 },
 "nbformat": 4,
 "nbformat_minor": 5
}
