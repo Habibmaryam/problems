{
 "cells": [
  {
   "cell_type": "markdown",
   "id": "8674b869",
   "metadata": {},
   "source": [
    "#  Problem 2: Crypto Investment Portfolio\n",
    "\n",
    " #### This data structure represents a crypto investment portfolio, including various assets like tokens, stablecoins, and NFTs, along with their holdings and performance metrics"
   ]
  },
  {
   "cell_type": "code",
   "execution_count": 2,
   "id": "843d4a38",
   "metadata": {},
   "outputs": [],
   "source": [
    "crypto_portfolio = {\n",
    "    \"investor_name\": \"Jane Doe\",\n",
    "    \"portfolio_id\": \"JD1234\",\n",
    "    \"assets\": {\n",
    "        \"tokens\": [\n",
    "            {\n",
    "                \"ticker\": \"ETH\",\n",
    "                \"quantity\": 50,\n",
    "                \"purchase_price\": 2000.00,\n",
    "                \"current_price\": 2100.00\n",
    "            },\n",
    "            {\n",
    "                \"ticker\": \"BTC\",\n",
    "                \"quantity\": 30,\n",
    "                \"purchase_price\": 40000.00,\n",
    "                \"current_price\": 41000.00\n",
    "            }\n",
    "        ],\n",
    "        \"stablecoins\": [\n",
    "            {\n",
    "                \"identifier\": \"USDC\",\n",
    "                \"quantity\": 10000,\n",
    "                \"purchase_price\": 1.00,\n",
    "                \"current_price\": 1.00,\n",
    "                \"peg_currency\": \"USD\"\n",
    "            }\n",
    "        ],\n",
    "        \"nfts\": [\n",
    "            {\n",
    "                \"name\": \"CryptoArt 123\",\n",
    "                \"quantity\": 1,\n",
    "                \"purchase_price\": 5000.00,\n",
    "                \"current_price\": 5500.00\n",
    "            }\n",
    "        ]\n",
    "    },\n",
    "    \"cash_holdings_usd\": 10000.00,\n",
    "    \"investment_goals\": {\"retirement\": 2035, \"education\": 2025}\n",
    "}\n"
   ]
  },
  {
   "cell_type": "code",
   "execution_count": 4,
   "id": "bf9562d0",
   "metadata": {},
   "outputs": [
    {
     "name": "stdout",
     "output_type": "stream",
     "text": [
      "Current price of NFT Crypto 123 is: 5500.0\n"
     ]
    }
   ],
   "source": [
    "# Q1: Read Data  \n",
    "# Task: Display the current price of the NFT \"CryptoArt 123\"\n",
    "\n",
    "crypto_portfolio['assets']['nfts'][0]['current_price']\n",
    "\n",
    "print(f\"Current price of NFT Crypto 123 is:\", crypto_portfolio['assets']['nfts'][0]['current_price'])"
   ]
  },
  {
   "cell_type": "code",
   "execution_count": null,
   "id": "ea00aeed",
   "metadata": {},
   "outputs": [
    {
     "name": "stdout",
     "output_type": "stream",
     "text": [
      "assets: {'tokens': [{'ticker': 'ETH', 'quantity': 50, 'purchase_price': 2000.0, 'current_price': 2100.0}, {'ticker': 'BTC', 'quantity': 30, 'purchase_price': 40000.0, 'current_price': 41000.0}, {'ticker': 'ADA', 'quantity': 1000, 'purchase_price': 1.5, 'current_price': 1.6}, {'ticker': 'ADA', 'quantity': 1000, 'purchase_price': 1.5, 'current_price': 1.6}], 'stablecoins': [{'identifier': 'USDC', 'quantity': 10000, 'purchase_price': 1.0, 'current_price': 1.0, 'peg_currency': 'USD'}], 'nfts': [{'name': 'CryptoArt 123', 'quantity': 1, 'purchase_price': 5000.0, 'current_price': 5500.0}]}\n"
     ]
    }
   ],
   "source": [
    "# Q2: Write Data  \n",
    "# Task: Add a new token with ticker \"ADA\", 1000 units, a purchase price of 1.50, and a current price of 1.60 to the tokens in the assets\n",
    "new_token = {\n",
    "    \"ticker\": \"ADA\",\n",
    "    \"quantity\": 1000,\n",
    "    \"purchase_price\": 1.50,\n",
    "    \"current_price\": 1.60\n",
    "}\n",
    "crypto_portfolio['assets']['tokens'].append(new_token)\n",
    "print('assets:', crypto_portfolio['assets'])\n"
   ]
  },
  {
   "cell_type": "code",
   "execution_count": null,
   "id": "22da0959",
   "metadata": {},
   "outputs": [],
   "source": []
  }
 ],
 "metadata": {
  "kernelspec": {
   "display_name": "python_problems",
   "language": "python",
   "name": "python3"
  },
  "language_info": {
   "codemirror_mode": {
    "name": "ipython",
    "version": 3
   },
   "file_extension": ".py",
   "mimetype": "text/x-python",
   "name": "python",
   "nbconvert_exporter": "python",
   "pygments_lexer": "ipython3",
   "version": "3.13.3"
  }
 },
 "nbformat": 4,
 "nbformat_minor": 5
}
