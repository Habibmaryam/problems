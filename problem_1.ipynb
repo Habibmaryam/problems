{
 "cells": [
  {
   "cell_type": "markdown",
   "id": "395abb2a",
   "metadata": {},
   "source": [
    "# Problem 1: Cryptocurrency Token Data\n",
    "This data structure represents information about different cryptocurrency tokens listed on a decentralized exchange (DEX).\n"
   ]
  },
  {
   "cell_type": "code",
   "execution_count": 3,
   "id": "9c2c0c55",
   "metadata": {},
   "outputs": [],
   "source": [
    "crypto_tokens = [\n",
    "    {\n",
    "        \"name\": \"Token A\",\n",
    "        \"symbol\": \"TKA\",\n",
    "        \"blockchain\": \"Ethereum\",\n",
    "        \"current_price_usd\": 100.0,\n",
    "        \"transaction_history\": [\n",
    "            {\n",
    "                \"date\": \"2024-01-10\",\n",
    "                \"prices\": {\n",
    "                    \"open\": 98.0,\n",
    "                    \"close\": 100.0,\n",
    "                    \"high\": 101.0,\n",
    "                    \"low\": 97.0\n",
    "                },\n",
    "                \"volume\": 12000\n",
    "            },\n",
    "            {\n",
    "                \"date\": \"2024-01-09\",\n",
    "                \"prices\": {\n",
    "                    \"open\": 97.0,\n",
    "                    \"close\": 98.0,\n",
    "                    \"high\": 99.0,\n",
    "                    \"low\": 96.0\n",
    "                },\n",
    "                \"volume\": 15000\n",
    "            }\n",
    "        ],\n",
    "        \"supported_chains\": [\"Ethereum\", \"Polygon\"]\n",
    "    },\n",
    "    {\n",
    "        \"name\": \"Token B\",\n",
    "        \"symbol\": \"TKB\",\n",
    "        \"blockchain\": \"Binance Smart Chain\",\n",
    "        \"current_price_usd\": 200.0,\n",
    "        \"transaction_history\": [\n",
    "            {\n",
    "                \"date\": \"2024-01-10\",\n",
    "                \"prices\": {\n",
    "                    \"open\": 198.0,\n",
    "                    \"close\": 200.0,\n",
    "                    \"high\": 202.0,\n",
    "                    \"low\": 196.0\n",
    "                },\n",
    "                \"volume\": 18000\n",
    "            },\n",
    "            {\n",
    "                \"date\": \"2024-01-09\",\n",
    "                \"prices\": {\n",
    "                    \"open\": 196.0,\n",
    "                    \"close\": 198.0,\n",
    "                    \"high\": 199.0,\n",
    "                    \"low\": 195.0\n",
    "                },\n",
    "                \"volume\": 17000\n",
    "            }\n",
    "        ],\n",
    "        \"supported_chains\": [\"Binance Smart Chain\", \"Avalanche\"]\n",
    "    },\n",
    "    {\n",
    "        \"name\": \"Token C\",\n",
    "        \"symbol\": \"TKC\",\n",
    "        \"blockchain\": \"Solana\",\n",
    "        \"current_price_usd\": 300.0,\n",
    "        \"transaction_history\": [\n",
    "            {\n",
    "                \"date\": \"2024-01-10\",\n",
    "                \"prices\": {\n",
    "                    \"open\": 295.0,\n",
    "                    \"close\": 300.0,\n",
    "                    \"high\": 302.0,\n",
    "                    \"low\": 294.0\n",
    "                },\n",
    "                \"volume\": 22000\n",
    "            },\n",
    "            {\n",
    "                \"date\": \"2024-01-09\",\n",
    "                \"prices\": {\n",
    "                    \"open\": 294.0,\n",
    "                    \"close\": 295.0,\n",
    "                    \"high\": 296.0,\n",
    "                    \"low\": 293.0\n",
    "                },\n",
    "                \"volume\": 21000\n",
    "            }\n",
    "        ],\n",
    "        \"supported_chains\": [\"Solana\", \"Fantom\"]\n",
    "    }\n",
    "]\n"
   ]
  },
  {
   "cell_type": "code",
   "execution_count": 4,
   "id": "51c7543a",
   "metadata": {},
   "outputs": [
    {
     "name": "stdout",
     "output_type": "stream",
     "text": [
      "Current price of Token B: 200.0 USD\n"
     ]
    }
   ],
   "source": [
    "# Q1: Read Data  \n",
    "# Task: Display the current price of \"Token B\"\n",
    "print(\"Current price of Token B:\", crypto_tokens[1][\"current_price_usd\"], \"USD\")"
   ]
  },
  {
   "cell_type": "code",
   "execution_count": null,
   "id": "89020fa3",
   "metadata": {},
   "outputs": [],
   "source": [
    "# Q2: Write Data  \n",
    "# Task: Add a new token \"Token D\" with some initial data to the `crypto_tokens` list.\n",
    "token_d = {\n",
    "    \"name\": \"Token D\",\n",
    "    \"symbol\": \"TKD\",\n",
    "    \"blockchain\": \"Cardano\",\n",
    "    \"current_price_usd\": 150.0,\n",
    "    \"transaction_history\": [],\n",
    "    \"supported_chains\": [\"Cardano\"]\n",
    "}\n",
    "\n",
    "crypto_tokens.append(token_d)\n",
    "\n",
    "crypto_tokens"
   ]
  },
  {
   "cell_type": "code",
   "execution_count": 15,
   "id": "1d83424a",
   "metadata": {},
   "outputs": [
    {
     "name": "stdout",
     "output_type": "stream",
     "text": [
      "Updated current price of Token C: 310.0 USD\n"
     ]
    }
   ],
   "source": [
    "# Q3: Update Data  \n",
    "# Task: Update the current price of \"Token C\" to 310.0\n",
    "crypto_tokens[2][\"current_price_usd\"] = 310.0\n",
    "print(\"Updated current price of Token C:\", crypto_tokens[2][\"current_price_usd\"], \"USD\")"
   ]
  },
  {
   "cell_type": "code",
   "execution_count": null,
   "id": "09f4facb",
   "metadata": {},
   "outputs": [],
   "source": [
    "# Q4: Delete Data  \n",
    "# Task: Remove the transaction history for \"Token A\" on \"2024-01-09\"\n",
    "# Find the transaction to remove\n",
    "for transaction in crypto_tokens[0][\"transaction_history\"]:\n",
    "    if transaction[\"date\"] == \"2024-01-09\":\n",
    "        crypto_tokens[0][\"transaction_history\"].remove(transaction)\n",
    "        break"
   ]
  },
  {
   "cell_type": "code",
   "execution_count": 14,
   "id": "0bde140b",
   "metadata": {},
   "outputs": [
    {
     "name": "stdout",
     "output_type": "stream",
     "text": [
      "Closing price of Token B on 2024-01-10: 200.0 USD\n"
     ]
    }
   ],
   "source": [
    "# Q5: Read Nested Data  \n",
    "# Task: Display the closing price of \"Token B\" on \"2024-01-10\"\n",
    "crypto_tokens[1][\"transaction_history\"][0][\"prices\"][\"close\"]\n",
    "print(\"Closing price of Token B on 2024-01-10:\", crypto_tokens[1][\"transaction_history\"][0][\"prices\"][\"close\"], \"USD\") \n"
   ]
  },
  {
   "cell_type": "code",
   "execution_count": 19,
   "id": "7fcb2930",
   "metadata": {},
   "outputs": [
    {
     "name": "stdout",
     "output_type": "stream",
     "text": [
      "Updated opening price of Token A on 2024-01-10: 99.0 USD\n"
     ]
    }
   ],
   "source": [
    "# Q6: Update Nested Data  \n",
    "# Task: Change the opening price of \"Token A\" on \"2024-01-10\" to 99.0\n",
    "\n",
    "for transaction in crypto_tokens[0][\"transaction_history\"]:\n",
    "    if transaction[\"date\"] == \"2024-01-10\":\n",
    "        transaction[\"prices\"][\"open\"] = 99.0\n",
    "        print(\"Updated opening price of Token A on 2024-01-10:\", transaction[\"prices\"][\"open\"], \"USD\")\n",
    "        break\n",
    "    # print updated opening price\n",
    "    print(\"Opening price of Token A on 2024-01-10:\", transaction[\"prices\"][\"open\"], \"USD\")"
   ]
  },
  {
   "cell_type": "code",
   "execution_count": 18,
   "id": "0ca5dd6f",
   "metadata": {},
   "outputs": [
    {
     "name": "stdout",
     "output_type": "stream",
     "text": [
      "Updated transaction history for Token C: [{'date': '2024-01-10', 'prices': {'open': 295.0, 'close': 300.0, 'high': 302.0, 'low': 294.0}, 'volume': 22000}, {'date': '2024-01-09', 'prices': {'open': 294.0, 'close': 295.0, 'high': 296.0, 'low': 293.0}, 'volume': 21000}, {'date': '2024-01-11', 'prices': {'open': 550.0, 'close': 530.0, 'high': 512.0, 'low': 504.0}, 'volume': 30000}, {'date': '2024-01-11', 'prices': {'open': 550.0, 'close': 530.0, 'high': 512.0, 'low': 504.0}, 'volume': 30000}]\n"
     ]
    }
   ],
   "source": [
    "# Q7: Add Nested Data  \n",
    "# Task: Add a new transaction history entry for \"Token C\" on \"2024-01-11\"\n",
    "new_transaction = {\n",
    "    \"date\": \"2024-01-11\",\n",
    "    \"prices\": {\n",
    "        \"open\": 550.0,\n",
    "        \"close\": 530.0,\n",
    "        \"high\": 512.0,\n",
    "        \"low\": 504.0\n",
    "    },\n",
    "    \"volume\": 30000\n",
    "}\n",
    "crypto_tokens[2][\"transaction_history\"].append(new_transaction)\n",
    "# Display the updated transaction history for \"Token C\"\n",
    "print(\"Updated transaction history for Token C:\", crypto_tokens[2][\"transaction_history\"])  "
   ]
  },
  {
   "cell_type": "code",
   "execution_count": 20,
   "id": "a110800b",
   "metadata": {},
   "outputs": [
    {
     "name": "stdout",
     "output_type": "stream",
     "text": [
      "Updated supported chains for Token B: ['Binance Smart Chain']\n"
     ]
    }
   ],
   "source": [
    "# Q8: Delete an Item from a List Inside a Dictionary  \n",
    "# Task: Remove \"Avalanche\" from the supported chains of \"Token B\".\n",
    "for chain in crypto_tokens[1][\"supported_chains\"]:\n",
    "    if chain == \"Avalanche\":\n",
    "        crypto_tokens[1][\"supported_chains\"].remove(chain)\n",
    "        break\n",
    "# Display the updated supported chains for \"Token B\"\n",
    "print(\"Updated supported chains for Token B:\", crypto_tokens[1][\"supported_chains\"])"
   ]
  },
  {
   "cell_type": "markdown",
   "id": "b107f7de",
   "metadata": {},
   "source": [
    "# END"
   ]
  }
 ],
 "metadata": {
  "kernelspec": {
   "display_name": "python_problems",
   "language": "python",
   "name": "python3"
  },
  "language_info": {
   "codemirror_mode": {
    "name": "ipython",
    "version": 3
   },
   "file_extension": ".py",
   "mimetype": "text/x-python",
   "name": "python",
   "nbconvert_exporter": "python",
   "pygments_lexer": "ipython3",
   "version": "3.13.3"
  }
 },
 "nbformat": 4,
 "nbformat_minor": 5
}
